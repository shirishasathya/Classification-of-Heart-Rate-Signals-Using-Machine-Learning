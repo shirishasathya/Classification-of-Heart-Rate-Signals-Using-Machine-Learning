{
  "nbformat": 4,
  "nbformat_minor": 0,
  "metadata": {
    "colab": {
      "provenance": []
    },
    "kernelspec": {
      "name": "python3",
      "display_name": "Python 3"
    },
    "language_info": {
      "name": "python"
    }
  },
  "cells": [
    {
      "cell_type": "code",
      "execution_count": null,
      "metadata": {
        "id": "_iOhrkz0MjfI"
      },
      "outputs": [],
      "source": [
        "# Import basic python libraries\n",
        "import csv\n",
        "import pandas as pd\n",
        "import numpy as np\n",
        "import matplotlib.pyplot as plt\n"
      ]
    },
    {
      "cell_type": "code",
      "source": [
        "# Set warnings to ignore while execution.\n",
        "import warnings\n",
        "warnings.filterwarnings(\"ignore\")"
      ],
      "metadata": {
        "id": "mbd2Cr2ygGwi"
      },
      "execution_count": null,
      "outputs": []
    },
    {
      "cell_type": "code",
      "source": [
        "# Import machine learning libraries from sklearn.\n",
        "from sklearn.model_selection import train_test_split\n",
        "from sklearn.preprocessing import StandardScaler\n",
        "from sklearn.model_selection import GridSearchCV\n",
        "from sklearn.decomposition import PCA\n",
        "\n",
        "from sklearn.neighbors import KNeighborsClassifier\n",
        "from sklearn.svm import SVC\n",
        "from sklearn.tree import DecisionTreeClassifier "
      ],
      "metadata": {
        "id": "3IGxuN0OqJCm"
      },
      "execution_count": null,
      "outputs": []
    },
    {
      "cell_type": "code",
      "source": [
        "# Import metrics and accuracy calculation libs\n",
        "from sklearn.metrics import accuracy_score\n",
        "from sklearn.metrics import recall_score\n",
        "from sklearn.metrics import precision_score\n",
        "from sklearn.metrics import f1_score"
      ],
      "metadata": {
        "id": "zYA6Hm6lqfU0"
      },
      "execution_count": null,
      "outputs": []
    },
    {
      "cell_type": "code",
      "source": [
        "# Load the dataset from excel file from sheet named Data_prep.\n",
        "# This sheet is modified from original data sheet to remove \n",
        "#   irrelavant or blank columns and rows\n",
        "cardio_df = pd.read_excel('CTG.xls', sheet_name='Data_prep')"
      ],
      "metadata": {
        "id": "jQDBFGPSM_yV"
      },
      "execution_count": null,
      "outputs": []
    },
    {
      "cell_type": "code",
      "source": [
        "# View the contents of the dataset\n",
        "ardio_df.head()"
      ],
      "metadata": {
        "colab": {
          "base_uri": "https://localhost:8080/",
          "height": 236
        },
        "id": "ZLFZhVc9M_vo",
        "outputId": "3c678673-edff-4f90-c116-02ce6ede7073"
      },
      "execution_count": null,
      "outputs": [
        {
          "output_type": "execute_result",
          "data": {
            "text/plain": [
              "       b       e   AC   FM   UC   DL   DS   DP   DR     LB  ...    Max  Nmax  \\\n",
              "0  240.0   357.0  0.0  0.0  0.0  0.0  0.0  0.0  0.0  120.0  ...  126.0   2.0   \n",
              "1    5.0   632.0  4.0  0.0  4.0  2.0  0.0  0.0  0.0  132.0  ...  198.0   6.0   \n",
              "2  177.0   779.0  2.0  0.0  5.0  2.0  0.0  0.0  0.0  133.0  ...  198.0   5.0   \n",
              "3  411.0  1192.0  2.0  0.0  6.0  2.0  0.0  0.0  0.0  134.0  ...  170.0  11.0   \n",
              "4  533.0  1147.0  4.0  0.0  5.0  0.0  0.0  0.0  0.0  132.0  ...  170.0   9.0   \n",
              "\n",
              "   Nzeros   Mode   Mean  Median  Variance  Tendency  CLASS  NSP  \n",
              "0     0.0  120.0  137.0   121.0      73.0       1.0    9.0  2.0  \n",
              "1     1.0  141.0  136.0   140.0      12.0       0.0    6.0  1.0  \n",
              "2     1.0  141.0  135.0   138.0      13.0       0.0    6.0  1.0  \n",
              "3     0.0  137.0  134.0   137.0      13.0       1.0    6.0  1.0  \n",
              "4     0.0  137.0  136.0   138.0      11.0       1.0    2.0  1.0  \n",
              "\n",
              "[5 rows x 32 columns]"
            ],
            "text/html": [
              "\n",
              "  <div id=\"df-c19e7874-6a46-432e-9711-9eb8e864ae6d\">\n",
              "    <div class=\"colab-df-container\">\n",
              "      <div>\n",
              "<style scoped>\n",
              "    .dataframe tbody tr th:only-of-type {\n",
              "        vertical-align: middle;\n",
              "    }\n",
              "\n",
              "    .dataframe tbody tr th {\n",
              "        vertical-align: top;\n",
              "    }\n",
              "\n",
              "    .dataframe thead th {\n",
              "        text-align: right;\n",
              "    }\n",
              "</style>\n",
              "<table border=\"1\" class=\"dataframe\">\n",
              "  <thead>\n",
              "    <tr style=\"text-align: right;\">\n",
              "      <th></th>\n",
              "      <th>b</th>\n",
              "      <th>e</th>\n",
              "      <th>AC</th>\n",
              "      <th>FM</th>\n",
              "      <th>UC</th>\n",
              "      <th>DL</th>\n",
              "      <th>DS</th>\n",
              "      <th>DP</th>\n",
              "      <th>DR</th>\n",
              "      <th>LB</th>\n",
              "      <th>...</th>\n",
              "      <th>Max</th>\n",
              "      <th>Nmax</th>\n",
              "      <th>Nzeros</th>\n",
              "      <th>Mode</th>\n",
              "      <th>Mean</th>\n",
              "      <th>Median</th>\n",
              "      <th>Variance</th>\n",
              "      <th>Tendency</th>\n",
              "      <th>CLASS</th>\n",
              "      <th>NSP</th>\n",
              "    </tr>\n",
              "  </thead>\n",
              "  <tbody>\n",
              "    <tr>\n",
              "      <th>0</th>\n",
              "      <td>240.0</td>\n",
              "      <td>357.0</td>\n",
              "      <td>0.0</td>\n",
              "      <td>0.0</td>\n",
              "      <td>0.0</td>\n",
              "      <td>0.0</td>\n",
              "      <td>0.0</td>\n",
              "      <td>0.0</td>\n",
              "      <td>0.0</td>\n",
              "      <td>120.0</td>\n",
              "      <td>...</td>\n",
              "      <td>126.0</td>\n",
              "      <td>2.0</td>\n",
              "      <td>0.0</td>\n",
              "      <td>120.0</td>\n",
              "      <td>137.0</td>\n",
              "      <td>121.0</td>\n",
              "      <td>73.0</td>\n",
              "      <td>1.0</td>\n",
              "      <td>9.0</td>\n",
              "      <td>2.0</td>\n",
              "    </tr>\n",
              "    <tr>\n",
              "      <th>1</th>\n",
              "      <td>5.0</td>\n",
              "      <td>632.0</td>\n",
              "      <td>4.0</td>\n",
              "      <td>0.0</td>\n",
              "      <td>4.0</td>\n",
              "      <td>2.0</td>\n",
              "      <td>0.0</td>\n",
              "      <td>0.0</td>\n",
              "      <td>0.0</td>\n",
              "      <td>132.0</td>\n",
              "      <td>...</td>\n",
              "      <td>198.0</td>\n",
              "      <td>6.0</td>\n",
              "      <td>1.0</td>\n",
              "      <td>141.0</td>\n",
              "      <td>136.0</td>\n",
              "      <td>140.0</td>\n",
              "      <td>12.0</td>\n",
              "      <td>0.0</td>\n",
              "      <td>6.0</td>\n",
              "      <td>1.0</td>\n",
              "    </tr>\n",
              "    <tr>\n",
              "      <th>2</th>\n",
              "      <td>177.0</td>\n",
              "      <td>779.0</td>\n",
              "      <td>2.0</td>\n",
              "      <td>0.0</td>\n",
              "      <td>5.0</td>\n",
              "      <td>2.0</td>\n",
              "      <td>0.0</td>\n",
              "      <td>0.0</td>\n",
              "      <td>0.0</td>\n",
              "      <td>133.0</td>\n",
              "      <td>...</td>\n",
              "      <td>198.0</td>\n",
              "      <td>5.0</td>\n",
              "      <td>1.0</td>\n",
              "      <td>141.0</td>\n",
              "      <td>135.0</td>\n",
              "      <td>138.0</td>\n",
              "      <td>13.0</td>\n",
              "      <td>0.0</td>\n",
              "      <td>6.0</td>\n",
              "      <td>1.0</td>\n",
              "    </tr>\n",
              "    <tr>\n",
              "      <th>3</th>\n",
              "      <td>411.0</td>\n",
              "      <td>1192.0</td>\n",
              "      <td>2.0</td>\n",
              "      <td>0.0</td>\n",
              "      <td>6.0</td>\n",
              "      <td>2.0</td>\n",
              "      <td>0.0</td>\n",
              "      <td>0.0</td>\n",
              "      <td>0.0</td>\n",
              "      <td>134.0</td>\n",
              "      <td>...</td>\n",
              "      <td>170.0</td>\n",
              "      <td>11.0</td>\n",
              "      <td>0.0</td>\n",
              "      <td>137.0</td>\n",
              "      <td>134.0</td>\n",
              "      <td>137.0</td>\n",
              "      <td>13.0</td>\n",
              "      <td>1.0</td>\n",
              "      <td>6.0</td>\n",
              "      <td>1.0</td>\n",
              "    </tr>\n",
              "    <tr>\n",
              "      <th>4</th>\n",
              "      <td>533.0</td>\n",
              "      <td>1147.0</td>\n",
              "      <td>4.0</td>\n",
              "      <td>0.0</td>\n",
              "      <td>5.0</td>\n",
              "      <td>0.0</td>\n",
              "      <td>0.0</td>\n",
              "      <td>0.0</td>\n",
              "      <td>0.0</td>\n",
              "      <td>132.0</td>\n",
              "      <td>...</td>\n",
              "      <td>170.0</td>\n",
              "      <td>9.0</td>\n",
              "      <td>0.0</td>\n",
              "      <td>137.0</td>\n",
              "      <td>136.0</td>\n",
              "      <td>138.0</td>\n",
              "      <td>11.0</td>\n",
              "      <td>1.0</td>\n",
              "      <td>2.0</td>\n",
              "      <td>1.0</td>\n",
              "    </tr>\n",
              "  </tbody>\n",
              "</table>\n",
              "<p>5 rows × 32 columns</p>\n",
              "</div>\n",
              "      <button class=\"colab-df-convert\" onclick=\"convertToInteractive('df-c19e7874-6a46-432e-9711-9eb8e864ae6d')\"\n",
              "              title=\"Convert this dataframe to an interactive table.\"\n",
              "              style=\"display:none;\">\n",
              "        \n",
              "  <svg xmlns=\"http://www.w3.org/2000/svg\" height=\"24px\"viewBox=\"0 0 24 24\"\n",
              "       width=\"24px\">\n",
              "    <path d=\"M0 0h24v24H0V0z\" fill=\"none\"/>\n",
              "    <path d=\"M18.56 5.44l.94 2.06.94-2.06 2.06-.94-2.06-.94-.94-2.06-.94 2.06-2.06.94zm-11 1L8.5 8.5l.94-2.06 2.06-.94-2.06-.94L8.5 2.5l-.94 2.06-2.06.94zm10 10l.94 2.06.94-2.06 2.06-.94-2.06-.94-.94-2.06-.94 2.06-2.06.94z\"/><path d=\"M17.41 7.96l-1.37-1.37c-.4-.4-.92-.59-1.43-.59-.52 0-1.04.2-1.43.59L10.3 9.45l-7.72 7.72c-.78.78-.78 2.05 0 2.83L4 21.41c.39.39.9.59 1.41.59.51 0 1.02-.2 1.41-.59l7.78-7.78 2.81-2.81c.8-.78.8-2.07 0-2.86zM5.41 20L4 18.59l7.72-7.72 1.47 1.35L5.41 20z\"/>\n",
              "  </svg>\n",
              "      </button>\n",
              "      \n",
              "  <style>\n",
              "    .colab-df-container {\n",
              "      display:flex;\n",
              "      flex-wrap:wrap;\n",
              "      gap: 12px;\n",
              "    }\n",
              "\n",
              "    .colab-df-convert {\n",
              "      background-color: #E8F0FE;\n",
              "      border: none;\n",
              "      border-radius: 50%;\n",
              "      cursor: pointer;\n",
              "      display: none;\n",
              "      fill: #1967D2;\n",
              "      height: 32px;\n",
              "      padding: 0 0 0 0;\n",
              "      width: 32px;\n",
              "    }\n",
              "\n",
              "    .colab-df-convert:hover {\n",
              "      background-color: #E2EBFA;\n",
              "      box-shadow: 0px 1px 2px rgba(60, 64, 67, 0.3), 0px 1px 3px 1px rgba(60, 64, 67, 0.15);\n",
              "      fill: #174EA6;\n",
              "    }\n",
              "\n",
              "    [theme=dark] .colab-df-convert {\n",
              "      background-color: #3B4455;\n",
              "      fill: #D2E3FC;\n",
              "    }\n",
              "\n",
              "    [theme=dark] .colab-df-convert:hover {\n",
              "      background-color: #434B5C;\n",
              "      box-shadow: 0px 1px 3px 1px rgba(0, 0, 0, 0.15);\n",
              "      filter: drop-shadow(0px 1px 2px rgba(0, 0, 0, 0.3));\n",
              "      fill: #FFFFFF;\n",
              "    }\n",
              "  </style>\n",
              "\n",
              "      <script>\n",
              "        const buttonEl =\n",
              "          document.querySelector('#df-c19e7874-6a46-432e-9711-9eb8e864ae6d button.colab-df-convert');\n",
              "        buttonEl.style.display =\n",
              "          google.colab.kernel.accessAllowed ? 'block' : 'none';\n",
              "\n",
              "        async function convertToInteractive(key) {\n",
              "          const element = document.querySelector('#df-c19e7874-6a46-432e-9711-9eb8e864ae6d');\n",
              "          const dataTable =\n",
              "            await google.colab.kernel.invokeFunction('convertToInteractive',\n",
              "                                                     [key], {});\n",
              "          if (!dataTable) return;\n",
              "\n",
              "          const docLinkHtml = 'Like what you see? Visit the ' +\n",
              "            '<a target=\"_blank\" href=https://colab.research.google.com/notebooks/data_table.ipynb>data table notebook</a>'\n",
              "            + ' to learn more about interactive tables.';\n",
              "          element.innerHTML = '';\n",
              "          dataTable['output_type'] = 'display_data';\n",
              "          await google.colab.output.renderOutput(dataTable, element);\n",
              "          const docLink = document.createElement('div');\n",
              "          docLink.innerHTML = docLinkHtml;\n",
              "          element.appendChild(docLink);\n",
              "        }\n",
              "      </script>\n",
              "    </div>\n",
              "  </div>\n",
              "  "
            ]
          },
          "metadata": {},
          "execution_count": 6
        }
      ]
    },
    {
      "cell_type": "code",
      "source": [
        "# Get a list of columns in the dataset\n",
        "col_names = cardio_df.columns\n",
        "col_names"
      ],
      "metadata": {
        "colab": {
          "base_uri": "https://localhost:8080/"
        },
        "id": "4MB-Nq4uM_su",
        "outputId": "a4d52152-e709-4393-f553-e716eef846cf"
      },
      "execution_count": null,
      "outputs": [
        {
          "output_type": "execute_result",
          "data": {
            "text/plain": [
              "Index(['b', 'e', 'AC', 'FM', 'UC', 'DL', 'DS', 'DP', 'DR', 'LB', 'AC1', 'FM1',\n",
              "       'UC1', 'DL1', 'DS1', 'DP1', 'ASTV', 'MSTV', 'ALTV', 'MLTV', 'Width',\n",
              "       'Min', 'Max', 'Nmax', 'Nzeros', 'Mode', 'Mean', 'Median', 'Variance',\n",
              "       'Tendency', 'CLASS', 'NSP'],\n",
              "      dtype='object')"
            ]
          },
          "metadata": {},
          "execution_count": 7
        }
      ]
    },
    {
      "cell_type": "code",
      "source": [
        "# use columns 10-32 and drop unnamed columns\n",
        "valid_cols = cardio_df.columns[10:32]\n",
        "cardio = cardio_df[valid_cols]\n",
        "cardio.columns"
      ],
      "metadata": {
        "colab": {
          "base_uri": "https://localhost:8080/"
        },
        "id": "Cgr8NGvINe45",
        "outputId": "d9d74ebf-1fb9-40a9-cca8-f0db3802a0a4"
      },
      "execution_count": null,
      "outputs": [
        {
          "output_type": "execute_result",
          "data": {
            "text/plain": [
              "Index(['AC1', 'FM1', 'UC1', 'DL1', 'DS1', 'DP1', 'ASTV', 'MSTV', 'ALTV',\n",
              "       'MLTV', 'Width', 'Min', 'Max', 'Nmax', 'Nzeros', 'Mode', 'Mean',\n",
              "       'Median', 'Variance', 'Tendency', 'CLASS', 'NSP'],\n",
              "      dtype='object')"
            ]
          },
          "metadata": {},
          "execution_count": 8
        }
      ]
    },
    {
      "cell_type": "code",
      "source": [
        "# Recheck the dataset contents\n",
        "cardio.head()"
      ],
      "metadata": {
        "colab": {
          "base_uri": "https://localhost:8080/",
          "height": 236
        },
        "id": "a5QGriaZNe1Y",
        "outputId": "92f5b937-6bde-4417-feb5-48fc55e5f813"
      },
      "execution_count": null,
      "outputs": [
        {
          "output_type": "execute_result",
          "data": {
            "text/plain": [
              "        AC1  FM1       UC1       DL1  DS1  DP1  ASTV  MSTV  ALTV  MLTV  ...  \\\n",
              "0  0.000000  0.0  0.000000  0.000000  0.0  0.0  73.0   0.5  43.0   2.4  ...   \n",
              "1  0.006380  0.0  0.006380  0.003190  0.0  0.0  17.0   2.1   0.0  10.4  ...   \n",
              "2  0.003322  0.0  0.008306  0.003322  0.0  0.0  16.0   2.1   0.0  13.4  ...   \n",
              "3  0.002561  0.0  0.007682  0.002561  0.0  0.0  16.0   2.4   0.0  23.0  ...   \n",
              "4  0.006515  0.0  0.008143  0.000000  0.0  0.0  16.0   2.4   0.0  19.9  ...   \n",
              "\n",
              "     Max  Nmax  Nzeros   Mode   Mean  Median  Variance  Tendency  CLASS  NSP  \n",
              "0  126.0   2.0     0.0  120.0  137.0   121.0      73.0       1.0    9.0  2.0  \n",
              "1  198.0   6.0     1.0  141.0  136.0   140.0      12.0       0.0    6.0  1.0  \n",
              "2  198.0   5.0     1.0  141.0  135.0   138.0      13.0       0.0    6.0  1.0  \n",
              "3  170.0  11.0     0.0  137.0  134.0   137.0      13.0       1.0    6.0  1.0  \n",
              "4  170.0   9.0     0.0  137.0  136.0   138.0      11.0       1.0    2.0  1.0  \n",
              "\n",
              "[5 rows x 22 columns]"
            ],
            "text/html": [
              "\n",
              "  <div id=\"df-28d99fdd-4861-4276-952a-c93f4315f79a\">\n",
              "    <div class=\"colab-df-container\">\n",
              "      <div>\n",
              "<style scoped>\n",
              "    .dataframe tbody tr th:only-of-type {\n",
              "        vertical-align: middle;\n",
              "    }\n",
              "\n",
              "    .dataframe tbody tr th {\n",
              "        vertical-align: top;\n",
              "    }\n",
              "\n",
              "    .dataframe thead th {\n",
              "        text-align: right;\n",
              "    }\n",
              "</style>\n",
              "<table border=\"1\" class=\"dataframe\">\n",
              "  <thead>\n",
              "    <tr style=\"text-align: right;\">\n",
              "      <th></th>\n",
              "      <th>AC1</th>\n",
              "      <th>FM1</th>\n",
              "      <th>UC1</th>\n",
              "      <th>DL1</th>\n",
              "      <th>DS1</th>\n",
              "      <th>DP1</th>\n",
              "      <th>ASTV</th>\n",
              "      <th>MSTV</th>\n",
              "      <th>ALTV</th>\n",
              "      <th>MLTV</th>\n",
              "      <th>...</th>\n",
              "      <th>Max</th>\n",
              "      <th>Nmax</th>\n",
              "      <th>Nzeros</th>\n",
              "      <th>Mode</th>\n",
              "      <th>Mean</th>\n",
              "      <th>Median</th>\n",
              "      <th>Variance</th>\n",
              "      <th>Tendency</th>\n",
              "      <th>CLASS</th>\n",
              "      <th>NSP</th>\n",
              "    </tr>\n",
              "  </thead>\n",
              "  <tbody>\n",
              "    <tr>\n",
              "      <th>0</th>\n",
              "      <td>0.000000</td>\n",
              "      <td>0.0</td>\n",
              "      <td>0.000000</td>\n",
              "      <td>0.000000</td>\n",
              "      <td>0.0</td>\n",
              "      <td>0.0</td>\n",
              "      <td>73.0</td>\n",
              "      <td>0.5</td>\n",
              "      <td>43.0</td>\n",
              "      <td>2.4</td>\n",
              "      <td>...</td>\n",
              "      <td>126.0</td>\n",
              "      <td>2.0</td>\n",
              "      <td>0.0</td>\n",
              "      <td>120.0</td>\n",
              "      <td>137.0</td>\n",
              "      <td>121.0</td>\n",
              "      <td>73.0</td>\n",
              "      <td>1.0</td>\n",
              "      <td>9.0</td>\n",
              "      <td>2.0</td>\n",
              "    </tr>\n",
              "    <tr>\n",
              "      <th>1</th>\n",
              "      <td>0.006380</td>\n",
              "      <td>0.0</td>\n",
              "      <td>0.006380</td>\n",
              "      <td>0.003190</td>\n",
              "      <td>0.0</td>\n",
              "      <td>0.0</td>\n",
              "      <td>17.0</td>\n",
              "      <td>2.1</td>\n",
              "      <td>0.0</td>\n",
              "      <td>10.4</td>\n",
              "      <td>...</td>\n",
              "      <td>198.0</td>\n",
              "      <td>6.0</td>\n",
              "      <td>1.0</td>\n",
              "      <td>141.0</td>\n",
              "      <td>136.0</td>\n",
              "      <td>140.0</td>\n",
              "      <td>12.0</td>\n",
              "      <td>0.0</td>\n",
              "      <td>6.0</td>\n",
              "      <td>1.0</td>\n",
              "    </tr>\n",
              "    <tr>\n",
              "      <th>2</th>\n",
              "      <td>0.003322</td>\n",
              "      <td>0.0</td>\n",
              "      <td>0.008306</td>\n",
              "      <td>0.003322</td>\n",
              "      <td>0.0</td>\n",
              "      <td>0.0</td>\n",
              "      <td>16.0</td>\n",
              "      <td>2.1</td>\n",
              "      <td>0.0</td>\n",
              "      <td>13.4</td>\n",
              "      <td>...</td>\n",
              "      <td>198.0</td>\n",
              "      <td>5.0</td>\n",
              "      <td>1.0</td>\n",
              "      <td>141.0</td>\n",
              "      <td>135.0</td>\n",
              "      <td>138.0</td>\n",
              "      <td>13.0</td>\n",
              "      <td>0.0</td>\n",
              "      <td>6.0</td>\n",
              "      <td>1.0</td>\n",
              "    </tr>\n",
              "    <tr>\n",
              "      <th>3</th>\n",
              "      <td>0.002561</td>\n",
              "      <td>0.0</td>\n",
              "      <td>0.007682</td>\n",
              "      <td>0.002561</td>\n",
              "      <td>0.0</td>\n",
              "      <td>0.0</td>\n",
              "      <td>16.0</td>\n",
              "      <td>2.4</td>\n",
              "      <td>0.0</td>\n",
              "      <td>23.0</td>\n",
              "      <td>...</td>\n",
              "      <td>170.0</td>\n",
              "      <td>11.0</td>\n",
              "      <td>0.0</td>\n",
              "      <td>137.0</td>\n",
              "      <td>134.0</td>\n",
              "      <td>137.0</td>\n",
              "      <td>13.0</td>\n",
              "      <td>1.0</td>\n",
              "      <td>6.0</td>\n",
              "      <td>1.0</td>\n",
              "    </tr>\n",
              "    <tr>\n",
              "      <th>4</th>\n",
              "      <td>0.006515</td>\n",
              "      <td>0.0</td>\n",
              "      <td>0.008143</td>\n",
              "      <td>0.000000</td>\n",
              "      <td>0.0</td>\n",
              "      <td>0.0</td>\n",
              "      <td>16.0</td>\n",
              "      <td>2.4</td>\n",
              "      <td>0.0</td>\n",
              "      <td>19.9</td>\n",
              "      <td>...</td>\n",
              "      <td>170.0</td>\n",
              "      <td>9.0</td>\n",
              "      <td>0.0</td>\n",
              "      <td>137.0</td>\n",
              "      <td>136.0</td>\n",
              "      <td>138.0</td>\n",
              "      <td>11.0</td>\n",
              "      <td>1.0</td>\n",
              "      <td>2.0</td>\n",
              "      <td>1.0</td>\n",
              "    </tr>\n",
              "  </tbody>\n",
              "</table>\n",
              "<p>5 rows × 22 columns</p>\n",
              "</div>\n",
              "      <button class=\"colab-df-convert\" onclick=\"convertToInteractive('df-28d99fdd-4861-4276-952a-c93f4315f79a')\"\n",
              "              title=\"Convert this dataframe to an interactive table.\"\n",
              "              style=\"display:none;\">\n",
              "        \n",
              "  <svg xmlns=\"http://www.w3.org/2000/svg\" height=\"24px\"viewBox=\"0 0 24 24\"\n",
              "       width=\"24px\">\n",
              "    <path d=\"M0 0h24v24H0V0z\" fill=\"none\"/>\n",
              "    <path d=\"M18.56 5.44l.94 2.06.94-2.06 2.06-.94-2.06-.94-.94-2.06-.94 2.06-2.06.94zm-11 1L8.5 8.5l.94-2.06 2.06-.94-2.06-.94L8.5 2.5l-.94 2.06-2.06.94zm10 10l.94 2.06.94-2.06 2.06-.94-2.06-.94-.94-2.06-.94 2.06-2.06.94z\"/><path d=\"M17.41 7.96l-1.37-1.37c-.4-.4-.92-.59-1.43-.59-.52 0-1.04.2-1.43.59L10.3 9.45l-7.72 7.72c-.78.78-.78 2.05 0 2.83L4 21.41c.39.39.9.59 1.41.59.51 0 1.02-.2 1.41-.59l7.78-7.78 2.81-2.81c.8-.78.8-2.07 0-2.86zM5.41 20L4 18.59l7.72-7.72 1.47 1.35L5.41 20z\"/>\n",
              "  </svg>\n",
              "      </button>\n",
              "      \n",
              "  <style>\n",
              "    .colab-df-container {\n",
              "      display:flex;\n",
              "      flex-wrap:wrap;\n",
              "      gap: 12px;\n",
              "    }\n",
              "\n",
              "    .colab-df-convert {\n",
              "      background-color: #E8F0FE;\n",
              "      border: none;\n",
              "      border-radius: 50%;\n",
              "      cursor: pointer;\n",
              "      display: none;\n",
              "      fill: #1967D2;\n",
              "      height: 32px;\n",
              "      padding: 0 0 0 0;\n",
              "      width: 32px;\n",
              "    }\n",
              "\n",
              "    .colab-df-convert:hover {\n",
              "      background-color: #E2EBFA;\n",
              "      box-shadow: 0px 1px 2px rgba(60, 64, 67, 0.3), 0px 1px 3px 1px rgba(60, 64, 67, 0.15);\n",
              "      fill: #174EA6;\n",
              "    }\n",
              "\n",
              "    [theme=dark] .colab-df-convert {\n",
              "      background-color: #3B4455;\n",
              "      fill: #D2E3FC;\n",
              "    }\n",
              "\n",
              "    [theme=dark] .colab-df-convert:hover {\n",
              "      background-color: #434B5C;\n",
              "      box-shadow: 0px 1px 3px 1px rgba(0, 0, 0, 0.15);\n",
              "      filter: drop-shadow(0px 1px 2px rgba(0, 0, 0, 0.3));\n",
              "      fill: #FFFFFF;\n",
              "    }\n",
              "  </style>\n",
              "\n",
              "      <script>\n",
              "        const buttonEl =\n",
              "          document.querySelector('#df-28d99fdd-4861-4276-952a-c93f4315f79a button.colab-df-convert');\n",
              "        buttonEl.style.display =\n",
              "          google.colab.kernel.accessAllowed ? 'block' : 'none';\n",
              "\n",
              "        async function convertToInteractive(key) {\n",
              "          const element = document.querySelector('#df-28d99fdd-4861-4276-952a-c93f4315f79a');\n",
              "          const dataTable =\n",
              "            await google.colab.kernel.invokeFunction('convertToInteractive',\n",
              "                                                     [key], {});\n",
              "          if (!dataTable) return;\n",
              "\n",
              "          const docLinkHtml = 'Like what you see? Visit the ' +\n",
              "            '<a target=\"_blank\" href=https://colab.research.google.com/notebooks/data_table.ipynb>data table notebook</a>'\n",
              "            + ' to learn more about interactive tables.';\n",
              "          element.innerHTML = '';\n",
              "          dataTable['output_type'] = 'display_data';\n",
              "          await google.colab.output.renderOutput(dataTable, element);\n",
              "          const docLink = document.createElement('div');\n",
              "          docLink.innerHTML = docLinkHtml;\n",
              "          element.appendChild(docLink);\n",
              "        }\n",
              "      </script>\n",
              "    </div>\n",
              "  </div>\n",
              "  "
            ]
          },
          "metadata": {},
          "execution_count": 9
        }
      ]
    },
    {
      "cell_type": "code",
      "source": [
        "# View the size of the dataset\n",
        "cardio.shape"
      ],
      "metadata": {
        "id": "6V_59RSzSLsE",
        "colab": {
          "base_uri": "https://localhost:8080/"
        },
        "outputId": "da2a864d-106c-44a2-962c-95d76977f979"
      },
      "execution_count": null,
      "outputs": [
        {
          "output_type": "execute_result",
          "data": {
            "text/plain": [
              "(2129, 22)"
            ]
          },
          "metadata": {},
          "execution_count": 10
        }
      ]
    },
    {
      "cell_type": "code",
      "source": [
        "# View the columns and its data types.\n",
        "cardio.info()"
      ],
      "metadata": {
        "id": "o_tI8sknSLpH",
        "colab": {
          "base_uri": "https://localhost:8080/"
        },
        "outputId": "2cdb76f7-3e46-4fe0-f63a-4cc4d0e6f8e4"
      },
      "execution_count": null,
      "outputs": [
        {
          "output_type": "stream",
          "name": "stdout",
          "text": [
            "<class 'pandas.core.frame.DataFrame'>\n",
            "RangeIndex: 2129 entries, 0 to 2128\n",
            "Data columns (total 22 columns):\n",
            " #   Column    Non-Null Count  Dtype  \n",
            "---  ------    --------------  -----  \n",
            " 0   AC1       2126 non-null   float64\n",
            " 1   FM1       2127 non-null   float64\n",
            " 2   UC1       2127 non-null   float64\n",
            " 3   DL1       2128 non-null   float64\n",
            " 4   DS1       2128 non-null   float64\n",
            " 5   DP1       2128 non-null   float64\n",
            " 6   ASTV      2127 non-null   float64\n",
            " 7   MSTV      2127 non-null   float64\n",
            " 8   ALTV      2127 non-null   float64\n",
            " 9   MLTV      2127 non-null   float64\n",
            " 10  Width     2126 non-null   float64\n",
            " 11  Min       2126 non-null   float64\n",
            " 12  Max       2126 non-null   float64\n",
            " 13  Nmax      2126 non-null   float64\n",
            " 14  Nzeros    2126 non-null   float64\n",
            " 15  Mode      2126 non-null   float64\n",
            " 16  Mean      2126 non-null   float64\n",
            " 17  Median    2126 non-null   float64\n",
            " 18  Variance  2126 non-null   float64\n",
            " 19  Tendency  2126 non-null   float64\n",
            " 20  CLASS     2126 non-null   float64\n",
            " 21  NSP       2126 non-null   float64\n",
            "dtypes: float64(22)\n",
            "memory usage: 366.0 KB\n"
          ]
        }
      ]
    },
    {
      "cell_type": "code",
      "source": [
        "# Check for missing values in columns\n",
        "cardio.isnull().sum()"
      ],
      "metadata": {
        "id": "4Gol0ka5SLmX",
        "colab": {
          "base_uri": "https://localhost:8080/"
        },
        "outputId": "dea4f282-4a11-4417-c103-bdc024a48cb3"
      },
      "execution_count": null,
      "outputs": [
        {
          "output_type": "execute_result",
          "data": {
            "text/plain": [
              "AC1         3\n",
              "FM1         2\n",
              "UC1         2\n",
              "DL1         1\n",
              "DS1         1\n",
              "DP1         1\n",
              "ASTV        2\n",
              "MSTV        2\n",
              "ALTV        2\n",
              "MLTV        2\n",
              "Width       3\n",
              "Min         3\n",
              "Max         3\n",
              "Nmax        3\n",
              "Nzeros      3\n",
              "Mode        3\n",
              "Mean        3\n",
              "Median      3\n",
              "Variance    3\n",
              "Tendency    3\n",
              "CLASS       3\n",
              "NSP         3\n",
              "dtype: int64"
            ]
          },
          "metadata": {},
          "execution_count": 12
        }
      ]
    },
    {
      "cell_type": "code",
      "source": [
        "# Drop rows with null values\n",
        "cardio.dropna(inplace=True)\n",
        "cardio.isnull().sum()"
      ],
      "metadata": {
        "colab": {
          "base_uri": "https://localhost:8080/"
        },
        "id": "q1jHlfoyxSua",
        "outputId": "b2b74440-c1c0-429e-86d1-0e4cc3113381"
      },
      "execution_count": null,
      "outputs": [
        {
          "output_type": "execute_result",
          "data": {
            "text/plain": [
              "AC1         0\n",
              "FM1         0\n",
              "UC1         0\n",
              "DL1         0\n",
              "DS1         0\n",
              "DP1         0\n",
              "ASTV        0\n",
              "MSTV        0\n",
              "ALTV        0\n",
              "MLTV        0\n",
              "Width       0\n",
              "Min         0\n",
              "Max         0\n",
              "Nmax        0\n",
              "Nzeros      0\n",
              "Mode        0\n",
              "Mean        0\n",
              "Median      0\n",
              "Variance    0\n",
              "Tendency    0\n",
              "CLASS       0\n",
              "NSP         0\n",
              "dtype: int64"
            ]
          },
          "metadata": {},
          "execution_count": 13
        }
      ]
    },
    {
      "cell_type": "code",
      "source": [
        "# Plot and view the distribution of Target field, NSP\n",
        "cardio.hist(column='NSP')"
      ],
      "metadata": {
        "colab": {
          "base_uri": "https://localhost:8080/",
          "height": 469
        },
        "id": "cbulXrmY04wr",
        "outputId": "a60ff934-6056-4fd5-bfe5-76148234766d"
      },
      "execution_count": null,
      "outputs": [
        {
          "output_type": "execute_result",
          "data": {
            "text/plain": [
              "array([[<Axes: title={'center': 'NSP'}>]], dtype=object)"
            ]
          },
          "metadata": {},
          "execution_count": 14
        },
        {
          "output_type": "display_data",
          "data": {
            "text/plain": [
              "<Figure size 640x480 with 1 Axes>"
            ],
            "image/png": "[encoded data removed]"
          },
          "metadata": {}
        }
      ]
    },
    {
      "cell_type": "code",
      "source": [
        "# Create X Y i.e features(X) and target (y)\n",
        "X = cardio.drop(['NSP'], axis=1)\n",
        "y = cardio['NSP']"
      ],
      "metadata": {
        "id": "xGsc9hj904tq"
      },
      "execution_count": null,
      "outputs": []
    },
    {
      "cell_type": "code",
      "source": [
        "# Show the correlation of features with NSP column\n",
        "X.corrwith(cardio['NSP'])"
      ],
      "metadata": {
        "colab": {
          "base_uri": "https://localhost:8080/"
        },
        "id": "ESviHDdU1YY9",
        "outputId": "3e79445b-9d06-45b4-e7c5-500a925d5efa"
      },
      "execution_count": null,
      "outputs": [
        {
          "output_type": "execute_result",
          "data": {
            "text/plain": [
              "AC1        -0.363849\n",
              "FM1         0.087933\n",
              "UC1        -0.203824\n",
              "DL1         0.062702\n",
              "DS1         0.135629\n",
              "DP1         0.488277\n",
              "ASTV        0.471191\n",
              "MSTV       -0.103382\n",
              "ALTV        0.426146\n",
              "MLTV       -0.226797\n",
              "Width      -0.068789\n",
              "Min         0.063175\n",
              "Mode       -0.250412\n",
              "Mean       -0.226985\n",
              "Median     -0.205033\n",
              "Variance    0.206630\n",
              "Tendency   -0.131976\n",
              "CLASS       0.643034\n",
              "dtype: float64"
            ]
          },
          "metadata": {},
          "execution_count": 98
        }
      ]
    },
    {
      "cell_type": "code",
      "source": [
        "# plot Correlation of features\n",
        "X.corrwith(cardio['NSP']).plot.bar(\n",
        "        figsize = (10, 5), title = \"Correlation with Target\", fontsize = 20,\n",
        "        rot = 90, grid = True)"
      ],
      "metadata": {
        "id": "-Dp45YG_y7Eb",
        "colab": {
          "base_uri": "https://localhost:8080/",
          "height": 601
        },
        "outputId": "ddfdc40b-3a82-4959-91c8-dedf8db3ef14"
      },
      "execution_count": null,
      "outputs": [
        {
          "output_type": "execute_result",
          "data": {
            "text/plain": [
              "<Axes: title={'center': 'Correlation with Target'}>"
            ]
          },
          "metadata": {},
          "execution_count": 16
        },
        {
          "output_type": "display_data",
          "data": {
            "text/plain": [
              "<Figure size 1000x500 with 1 Axes>"
            ],
            "image/png": "[encoded data removed]"
          },
          "metadata": {}
        }
      ]
    },
    {
      "cell_type": "code",
      "source": [
        "# Drop fields with low correlation index\n",
        "X.drop(['Max','Nmax','Nzeros'], axis=1, inplace=True)\n",
        "X.info()"
      ],
      "metadata": {
        "colab": {
          "base_uri": "https://localhost:8080/"
        },
        "id": "m9Lcx99Z1OnA",
        "outputId": "530a7341-a11a-4306-e933-2f1f03f9facb"
      },
      "execution_count": null,
      "outputs": [
        {
          "output_type": "stream",
          "name": "stdout",
          "text": [
            "<class 'pandas.core.frame.DataFrame'>\n",
            "Int64Index: 2126 entries, 0 to 2125\n",
            "Data columns (total 18 columns):\n",
            " #   Column    Non-Null Count  Dtype  \n",
            "---  ------    --------------  -----  \n",
            " 0   AC1       2126 non-null   float64\n",
            " 1   FM1       2126 non-null   float64\n",
            " 2   UC1       2126 non-null   float64\n",
            " 3   DL1       2126 non-null   float64\n",
            " 4   DS1       2126 non-null   float64\n",
            " 5   DP1       2126 non-null   float64\n",
            " 6   ASTV      2126 non-null   float64\n",
            " 7   MSTV      2126 non-null   float64\n",
            " 8   ALTV      2126 non-null   float64\n",
            " 9   MLTV      2126 non-null   float64\n",
            " 10  Width     2126 non-null   float64\n",
            " 11  Min       2126 non-null   float64\n",
            " 12  Mode      2126 non-null   float64\n",
            " 13  Mean      2126 non-null   float64\n",
            " 14  Median    2126 non-null   float64\n",
            " 15  Variance  2126 non-null   float64\n",
            " 16  Tendency  2126 non-null   float64\n",
            " 17  CLASS     2126 non-null   float64\n",
            "dtypes: float64(18)\n",
            "memory usage: 315.6 KB\n"
          ]
        }
      ]
    },
    {
      "cell_type": "code",
      "source": [
        "# Split the data into train - 80% amd test 20%\n",
        "# This is part of cross validation\n",
        "X_train, X_test, y_train, y_test = train_test_split(X, y, test_size = 0.2, random_state = 0)"
      ],
      "metadata": {
        "id": "LsKKRSsF04kv"
      },
      "execution_count": null,
      "outputs": []
    },
    {
      "cell_type": "code",
      "source": [
        "# Normalise the data so that values are uniform for machinelearning\n",
        "scaler = StandardScaler()\n",
        "X_train = pd.DataFrame(scaler.fit_transform(X_train), columns = X.columns)\n",
        "X_test = pd.DataFrame(scaler.transform(X_test), columns = X.columns)"
      ],
      "metadata": {
        "id": "kQCB4tMk3LBv"
      },
      "execution_count": null,
      "outputs": []
    },
    {
      "cell_type": "markdown",
      "source": [
        "## 1.  Classification using  Optimised K Nearest Neighbour"
      ],
      "metadata": {
        "id": "Fkga4v6zyr-H"
      }
    },
    {
      "cell_type": "code",
      "source": [
        "# By Trial and Error method, find bvest K value for KNN using Grid Search\n",
        "knn_model = KNeighborsClassifier()\n",
        "params_val = {'n_neighbors':[3,4,5,6,8,10,12,14,16,18,20],\n",
        "         'leaf_size':list(range(1,50,5))}\n",
        "\n",
        "gridSrch = GridSearchCV(knn_model, param_grid= params_val, cv = 3,scoring = \"roc_auc\",verbose=1)\n",
        "gridSrch.fit(X_train, y_train)\n",
        "print('Best Score is :', gridSrch.best_score_)\n",
        "print('Best Estimator is :',gridSrch.best_estimator_)\n",
        "print('Best Params are :',gridSrch.best_params_)"
      ],
      "metadata": {
        "id": "H5cDC6U33K6t",
        "colab": {
          "base_uri": "https://localhost:8080/"
        },
        "outputId": "7b18ca57-dcae-4782-bd66-b1bf413b0ba8"
      },
      "execution_count": null,
      "outputs": [
        {
          "output_type": "stream",
          "name": "stdout",
          "text": [
            "Fitting 3 folds for each of 110 candidates, totalling 330 fits\n",
            "Best Score is : nan\n",
            "Best Estimator is : KNeighborsClassifier(leaf_size=1, n_neighbors=3)\n",
            "Best Params are : {'leaf_size': 1, 'n_neighbors': 3}\n"
          ]
        }
      ]
    },
    {
      "cell_type": "code",
      "source": [
        "# Create a new KNN model with best parameterss found.\n",
        "knn_model_opt = KNeighborsClassifier(n_neighbors=3)\n",
        "knn_model_opt.fit(X_train, y_train)\n",
        "\n",
        "# Predict the target class using the test data\n",
        "pred_knn_opt = knn_model_opt.predict(X_test)"
      ],
      "metadata": {
        "id": "0mxeTsZklX82"
      },
      "execution_count": null,
      "outputs": []
    },
    {
      "cell_type": "code",
      "source": [
        "# Calculate the accuracy of the KNN model\n",
        "print(knn_model_opt.score(X_test, y_test))"
      ],
      "metadata": {
        "colab": {
          "base_uri": "https://localhost:8080/"
        },
        "id": "bN2hLCyqhIOO",
        "outputId": "81357ed5-eb5c-4896-e105-9ff2e9a05de4"
      },
      "execution_count": null,
      "outputs": [
        {
          "output_type": "stream",
          "name": "stdout",
          "text": [
            "0.9436619718309859\n"
          ]
        }
      ]
    },
    {
      "cell_type": "code",
      "source": [
        "# print the accuracy results\n",
        "\n",
        "print ('accuracy =',accuracy_score(y_test, pred_knn_opt))\n",
        "\n",
        "print(\"Recall Score : \",recall_score(y_test, pred_knn_opt, \n",
        "                                           pos_label='positive',\n",
        "                                           average='micro'))\n",
        "print(\"Precision Score : \",precision_score(y_test, pred_knn_opt, \n",
        "                                           pos_label='positive',\n",
        "                                           average='micro'))\n",
        "print(\"F1 Score : \",f1_score(y_test, pred_knn_opt, \n",
        "                                           pos_label='positive',\n",
        "                                           average='micro'))"
      ],
      "metadata": {
        "id": "rdWGqqYyyt2i",
        "colab": {
          "base_uri": "https://localhost:8080/"
        },
        "outputId": "47f7a919-8ed0-4f84-a8f0-26db7a7ec132"
      },
      "execution_count": null,
      "outputs": [
        {
          "output_type": "stream",
          "name": "stdout",
          "text": [
            "accuracy = 0.9436619718309859\n",
            "Recall Score :  0.9436619718309859\n",
            "Precision Score :  0.9436619718309859\n",
            "F1 Score :  0.9436619718309859\n"
          ]
        }
      ]
    },
    {
      "cell_type": "code",
      "source": [
        "# get the accuracy score for KNN\n",
        "knn_acc = accuracy_score(y_test, pred_knn_opt)\n",
        "knn_acc"
      ],
      "metadata": {
        "colab": {
          "base_uri": "https://localhost:8080/"
        },
        "id": "vNXLYTh-RYti",
        "outputId": "8316cfbb-1e38-40c0-9123-8ae1f5ad9b41"
      },
      "execution_count": null,
      "outputs": [
        {
          "output_type": "execute_result",
          "data": {
            "text/plain": [
              "0.9436619718309859"
            ]
          },
          "metadata": {},
          "execution_count": 78
        }
      ]
    },
    {
      "cell_type": "markdown",
      "source": [
        "## 2. Classification using Suport Vector Machines"
      ],
      "metadata": {
        "id": "fGx37MD5yuhq"
      }
    },
    {
      "cell_type": "code",
      "source": [
        "# Set hyper paraeters for GridSearch to be used for Optimising the model\n",
        "param_grid = [{'kernel': ['poly'], 'C' : [3, 5, 7, 9, 10]},\n",
        "             {'kernel' : ['rbf'], 'C' : [3, 5, 7, 9, 10], 'gamma' : [2, 4, 6, 8]}]\n",
        "\n",
        "svm = SVC()"
      ],
      "metadata": {
        "id": "Xf06q7MDy7PS"
      },
      "execution_count": null,
      "outputs": []
    },
    {
      "cell_type": "code",
      "source": [
        "# Get the best SVM model that is optimised.\n",
        "svm_best_model = GridSearchCV(svm, param_grid, return_train_score=True)\n",
        "\n",
        "svm_best_model.fit(X_train, y_train)\n",
        "svm_best_model.best_params_\n"
      ],
      "metadata": {
        "id": "3GI_lH5Uy7If",
        "colab": {
          "base_uri": "https://localhost:8080/"
        },
        "outputId": "73d8bca1-eea7-4637-f092-391d2d127d36"
      },
      "execution_count": null,
      "outputs": [
        {
          "output_type": "execute_result",
          "data": {
            "text/plain": [
              "{'C': 10, 'kernel': 'poly'}"
            ]
          },
          "metadata": {},
          "execution_count": 80
        }
      ]
    },
    {
      "cell_type": "code",
      "source": [
        "# Creating the SVC model using best params\n",
        "y_pred = svm_best_model.predict(X_test)"
      ],
      "metadata": {
        "id": "HjP9plvHAWVW"
      },
      "execution_count": null,
      "outputs": []
    },
    {
      "cell_type": "code",
      "source": [
        "print ('accuracy =',accuracy_score(y_test, y_pred))\n",
        "\n",
        "print(\"Recall Score : \",recall_score(y_test, y_pred, \n",
        "                                           pos_label='positive',\n",
        "                                           average='micro'))\n",
        "print(\"Precision Score : \",precision_score(y_test, y_pred, \n",
        "                                           pos_label='positive',\n",
        "                                           average='micro'))\n",
        "print(\"F1 Score : \",f1_score(y_test, y_pred, \n",
        "                                           pos_label='positive',\n",
        "                                           average='micro'))"
      ],
      "metadata": {
        "colab": {
          "base_uri": "https://localhost:8080/"
        },
        "id": "NFlubV3gAWRN",
        "outputId": "bfd73cea-a281-4f03-c8cc-0b56145de974"
      },
      "execution_count": null,
      "outputs": [
        {
          "output_type": "stream",
          "name": "stdout",
          "text": [
            "accuracy = 0.9577464788732394\n",
            "Recall Score :  0.9577464788732394\n",
            "Precision Score :  0.9577464788732394\n",
            "F1 Score :  0.9577464788732394\n"
          ]
        }
      ]
    },
    {
      "cell_type": "code",
      "source": [
        "# Store the accuracy of SVM\n",
        "svm_acc = accuracy_score(y_test, y_pred)\n",
        "svm_acc"
      ],
      "metadata": {
        "colab": {
          "base_uri": "https://localhost:8080/"
        },
        "id": "CSgULYoKRlWg",
        "outputId": "fd617795-4309-4f35-c3cc-1e9d0072f306"
      },
      "execution_count": null,
      "outputs": [
        {
          "output_type": "execute_result",
          "data": {
            "text/plain": [
              "0.9577464788732394"
            ]
          },
          "metadata": {},
          "execution_count": 84
        }
      ]
    },
    {
      "cell_type": "markdown",
      "source": [
        "## 3.  Classification using Decistion Tree and PCA"
      ],
      "metadata": {
        "id": "cNDfvKMgy7rl"
      }
    },
    {
      "cell_type": "code",
      "source": [
        "# Create principal components as method of best feature selection.\n",
        "pca = PCA()\n",
        "X_pca = pca.fit_transform(X_train)\n",
        "\n",
        "# Convert to dataframe\n",
        "component_names = [f\"PC{i+1}\" for i in range(X_pca.shape[1])]\n",
        "X_pca = pd.DataFrame(X_pca, columns=component_names)\n",
        "\n",
        "X_pca.head()"
      ],
      "metadata": {
        "colab": {
          "base_uri": "https://localhost:8080/",
          "height": 270
        },
        "id": "8YnfKMGbQaS8",
        "outputId": "fc8bd352-738c-4c54-c5aa-3b796983d967"
      },
      "execution_count": null,
      "outputs": [
        {
          "output_type": "execute_result",
          "data": {
            "text/plain": [
              "        PC1       PC2       PC3       PC4       PC5       PC6       PC7  \\\n",
              "0 -0.484862 -1.684876  0.533931 -0.764895  0.116078  0.718921 -0.998347   \n",
              "1  1.775185 -0.672810 -0.128905 -0.403692 -0.995410 -0.437126  0.214066   \n",
              "2 -2.430061 -1.080981 -0.687113 -0.486544  0.184755 -0.146732  0.599461   \n",
              "3 -2.500159  1.024845 -0.817588  0.051228  0.378190  0.289538 -0.311558   \n",
              "4 -1.867861 -0.378853 -0.757383 -1.109647  0.300638  0.316074 -0.236536   \n",
              "\n",
              "        PC8       PC9      PC10      PC11      PC12      PC13      PC14  \\\n",
              "0  0.714687  0.726512  0.096680 -0.035643  0.200938 -0.229869  0.333965   \n",
              "1  1.462191  0.023267  1.151556  0.280210 -0.658152  0.168277  0.169274   \n",
              "2 -0.972667 -0.190823 -0.099273 -0.363426  0.162997 -0.016212 -0.254847   \n",
              "3 -0.411219  0.465257 -0.852458 -1.216500  0.559618  0.265095  0.236896   \n",
              "4 -0.270444  0.340033 -0.616365 -0.271003 -0.272999  0.138134  0.359308   \n",
              "\n",
              "       PC15      PC16      PC17      PC18  \n",
              "0 -0.010850  0.361140 -0.020376 -0.186011  \n",
              "1 -0.155747  0.131977  0.050686  0.004824  \n",
              "2  0.253423 -0.083960  0.014021  0.092510  \n",
              "3  0.094103  0.032852 -0.019681 -0.074949  \n",
              "4  0.348195  0.183252  0.054423 -0.047093  "
            ],
            "text/html": [
              "\n",
              "  <div id=\"df-54c2d012-ab9f-46b1-83c3-e65c4e4b9021\">\n",
              "    <div class=\"colab-df-container\">\n",
              "      <div>\n",
              "<style scoped>\n",
              "    .dataframe tbody tr th:only-of-type {\n",
              "        vertical-align: middle;\n",
              "    }\n",
              "\n",
              "    .dataframe tbody tr th {\n",
              "        vertical-align: top;\n",
              "    }\n",
              "\n",
              "    .dataframe thead th {\n",
              "        text-align: right;\n",
              "    }\n",
              "</style>\n",
              "<table border=\"1\" class=\"dataframe\">\n",
              "  <thead>\n",
              "    <tr style=\"text-align: right;\">\n",
              "      <th></th>\n",
              "      <th>PC1</th>\n",
              "      <th>PC2</th>\n",
              "      <th>PC3</th>\n",
              "      <th>PC4</th>\n",
              "      <th>PC5</th>\n",
              "      <th>PC6</th>\n",
              "      <th>PC7</th>\n",
              "      <th>PC8</th>\n",
              "      <th>PC9</th>\n",
              "      <th>PC10</th>\n",
              "      <th>PC11</th>\n",
              "      <th>PC12</th>\n",
              "      <th>PC13</th>\n",
              "      <th>PC14</th>\n",
              "      <th>PC15</th>\n",
              "      <th>PC16</th>\n",
              "      <th>PC17</th>\n",
              "      <th>PC18</th>\n",
              "    </tr>\n",
              "  </thead>\n",
              "  <tbody>\n",
              "    <tr>\n",
              "      <th>0</th>\n",
              "      <td>-0.484862</td>\n",
              "      <td>-1.684876</td>\n",
              "      <td>0.533931</td>\n",
              "      <td>-0.764895</td>\n",
              "      <td>0.116078</td>\n",
              "      <td>0.718921</td>\n",
              "      <td>-0.998347</td>\n",
              "      <td>0.714687</td>\n",
              "      <td>0.726512</td>\n",
              "      <td>0.096680</td>\n",
              "      <td>-0.035643</td>\n",
              "      <td>0.200938</td>\n",
              "      <td>-0.229869</td>\n",
              "      <td>0.333965</td>\n",
              "      <td>-0.010850</td>\n",
              "      <td>0.361140</td>\n",
              "      <td>-0.020376</td>\n",
              "      <td>-0.186011</td>\n",
              "    </tr>\n",
              "    <tr>\n",
              "      <th>1</th>\n",
              "      <td>1.775185</td>\n",
              "      <td>-0.672810</td>\n",
              "      <td>-0.128905</td>\n",
              "      <td>-0.403692</td>\n",
              "      <td>-0.995410</td>\n",
              "      <td>-0.437126</td>\n",
              "      <td>0.214066</td>\n",
              "      <td>1.462191</td>\n",
              "      <td>0.023267</td>\n",
              "      <td>1.151556</td>\n",
              "      <td>0.280210</td>\n",
              "      <td>-0.658152</td>\n",
              "      <td>0.168277</td>\n",
              "      <td>0.169274</td>\n",
              "      <td>-0.155747</td>\n",
              "      <td>0.131977</td>\n",
              "      <td>0.050686</td>\n",
              "      <td>0.004824</td>\n",
              "    </tr>\n",
              "    <tr>\n",
              "      <th>2</th>\n",
              "      <td>-2.430061</td>\n",
              "      <td>-1.080981</td>\n",
              "      <td>-0.687113</td>\n",
              "      <td>-0.486544</td>\n",
              "      <td>0.184755</td>\n",
              "      <td>-0.146732</td>\n",
              "      <td>0.599461</td>\n",
              "      <td>-0.972667</td>\n",
              "      <td>-0.190823</td>\n",
              "      <td>-0.099273</td>\n",
              "      <td>-0.363426</td>\n",
              "      <td>0.162997</td>\n",
              "      <td>-0.016212</td>\n",
              "      <td>-0.254847</td>\n",
              "      <td>0.253423</td>\n",
              "      <td>-0.083960</td>\n",
              "      <td>0.014021</td>\n",
              "      <td>0.092510</td>\n",
              "    </tr>\n",
              "    <tr>\n",
              "      <th>3</th>\n",
              "      <td>-2.500159</td>\n",
              "      <td>1.024845</td>\n",
              "      <td>-0.817588</td>\n",
              "      <td>0.051228</td>\n",
              "      <td>0.378190</td>\n",
              "      <td>0.289538</td>\n",
              "      <td>-0.311558</td>\n",
              "      <td>-0.411219</td>\n",
              "      <td>0.465257</td>\n",
              "      <td>-0.852458</td>\n",
              "      <td>-1.216500</td>\n",
              "      <td>0.559618</td>\n",
              "      <td>0.265095</td>\n",
              "      <td>0.236896</td>\n",
              "      <td>0.094103</td>\n",
              "      <td>0.032852</td>\n",
              "      <td>-0.019681</td>\n",
              "      <td>-0.074949</td>\n",
              "    </tr>\n",
              "    <tr>\n",
              "      <th>4</th>\n",
              "      <td>-1.867861</td>\n",
              "      <td>-0.378853</td>\n",
              "      <td>-0.757383</td>\n",
              "      <td>-1.109647</td>\n",
              "      <td>0.300638</td>\n",
              "      <td>0.316074</td>\n",
              "      <td>-0.236536</td>\n",
              "      <td>-0.270444</td>\n",
              "      <td>0.340033</td>\n",
              "      <td>-0.616365</td>\n",
              "      <td>-0.271003</td>\n",
              "      <td>-0.272999</td>\n",
              "      <td>0.138134</td>\n",
              "      <td>0.359308</td>\n",
              "      <td>0.348195</td>\n",
              "      <td>0.183252</td>\n",
              "      <td>0.054423</td>\n",
              "      <td>-0.047093</td>\n",
              "    </tr>\n",
              "  </tbody>\n",
              "</table>\n",
              "</div>\n",
              "      <button class=\"colab-df-convert\" onclick=\"convertToInteractive('df-54c2d012-ab9f-46b1-83c3-e65c4e4b9021')\"\n",
              "              title=\"Convert this dataframe to an interactive table.\"\n",
              "              style=\"display:none;\">\n",
              "        \n",
              "  <svg xmlns=\"http://www.w3.org/2000/svg\" height=\"24px\"viewBox=\"0 0 24 24\"\n",
              "       width=\"24px\">\n",
              "    <path d=\"M0 0h24v24H0V0z\" fill=\"none\"/>\n",
              "    <path d=\"M18.56 5.44l.94 2.06.94-2.06 2.06-.94-2.06-.94-.94-2.06-.94 2.06-2.06.94zm-11 1L8.5 8.5l.94-2.06 2.06-.94-2.06-.94L8.5 2.5l-.94 2.06-2.06.94zm10 10l.94 2.06.94-2.06 2.06-.94-2.06-.94-.94-2.06-.94 2.06-2.06.94z\"/><path d=\"M17.41 7.96l-1.37-1.37c-.4-.4-.92-.59-1.43-.59-.52 0-1.04.2-1.43.59L10.3 9.45l-7.72 7.72c-.78.78-.78 2.05 0 2.83L4 21.41c.39.39.9.59 1.41.59.51 0 1.02-.2 1.41-.59l7.78-7.78 2.81-2.81c.8-.78.8-2.07 0-2.86zM5.41 20L4 18.59l7.72-7.72 1.47 1.35L5.41 20z\"/>\n",
              "  </svg>\n",
              "      </button>\n",
              "      \n",
              "  <style>\n",
              "    .colab-df-container {\n",
              "      display:flex;\n",
              "      flex-wrap:wrap;\n",
              "      gap: 12px;\n",
              "    }\n",
              "\n",
              "    .colab-df-convert {\n",
              "      background-color: #E8F0FE;\n",
              "      border: none;\n",
              "      border-radius: 50%;\n",
              "      cursor: pointer;\n",
              "      display: none;\n",
              "      fill: #1967D2;\n",
              "      height: 32px;\n",
              "      padding: 0 0 0 0;\n",
              "      width: 32px;\n",
              "    }\n",
              "\n",
              "    .colab-df-convert:hover {\n",
              "      background-color: #E2EBFA;\n",
              "      box-shadow: 0px 1px 2px rgba(60, 64, 67, 0.3), 0px 1px 3px 1px rgba(60, 64, 67, 0.15);\n",
              "      fill: #174EA6;\n",
              "    }\n",
              "\n",
              "    [theme=dark] .colab-df-convert {\n",
              "      background-color: #3B4455;\n",
              "      fill: #D2E3FC;\n",
              "    }\n",
              "\n",
              "    [theme=dark] .colab-df-convert:hover {\n",
              "      background-color: #434B5C;\n",
              "      box-shadow: 0px 1px 3px 1px rgba(0, 0, 0, 0.15);\n",
              "      filter: drop-shadow(0px 1px 2px rgba(0, 0, 0, 0.3));\n",
              "      fill: #FFFFFF;\n",
              "    }\n",
              "  </style>\n",
              "\n",
              "      <script>\n",
              "        const buttonEl =\n",
              "          document.querySelector('#df-54c2d012-ab9f-46b1-83c3-e65c4e4b9021 button.colab-df-convert');\n",
              "        buttonEl.style.display =\n",
              "          google.colab.kernel.accessAllowed ? 'block' : 'none';\n",
              "\n",
              "        async function convertToInteractive(key) {\n",
              "          const element = document.querySelector('#df-54c2d012-ab9f-46b1-83c3-e65c4e4b9021');\n",
              "          const dataTable =\n",
              "            await google.colab.kernel.invokeFunction('convertToInteractive',\n",
              "                                                     [key], {});\n",
              "          if (!dataTable) return;\n",
              "\n",
              "          const docLinkHtml = 'Like what you see? Visit the ' +\n",
              "            '<a target=\"_blank\" href=https://colab.research.google.com/notebooks/data_table.ipynb>data table notebook</a>'\n",
              "            + ' to learn more about interactive tables.';\n",
              "          element.innerHTML = '';\n",
              "          dataTable['output_type'] = 'display_data';\n",
              "          await google.colab.output.renderOutput(dataTable, element);\n",
              "          const docLink = document.createElement('div');\n",
              "          docLink.innerHTML = docLinkHtml;\n",
              "          element.appendChild(docLink);\n",
              "        }\n",
              "      </script>\n",
              "    </div>\n",
              "  </div>\n",
              "  "
            ]
          },
          "metadata": {},
          "execution_count": 85
        }
      ]
    },
    {
      "cell_type": "code",
      "source": [
        "df_pca = pd.DataFrame(\n",
        "    pca.components_.T,  # transpose the matrix of loadings\n",
        "    columns=component_names,  # so the columns are the principal components\n",
        "    index=X.columns,  # and the rows are the original features\n",
        ")\n",
        "df_pca"
      ],
      "metadata": {
        "colab": {
          "base_uri": "https://localhost:8080/",
          "height": 678
        },
        "id": "XmyuhyCmSBFl",
        "outputId": "e5c0fa8e-e09d-421d-9877-a1d6e38e0d30"
      },
      "execution_count": null,
      "outputs": [
        {
          "output_type": "execute_result",
          "data": {
            "text/plain": [
              "               PC1       PC2       PC3       PC4       PC5       PC6  \\\n",
              "AC1       0.009060 -0.384634 -0.031544 -0.401820  0.186962  0.289476   \n",
              "FM1       0.086781 -0.033523  0.087238  0.090212  0.685080  0.050245   \n",
              "UC1       0.136075 -0.126573 -0.119120 -0.375883 -0.344702 -0.373713   \n",
              "DL1       0.312680  0.004453  0.245809 -0.073663 -0.319682 -0.092073   \n",
              "DS1       0.074822  0.105301 -0.031694 -0.020047 -0.243026  0.824298   \n",
              "DP1       0.242400  0.172148  0.100874 -0.124898  0.405016 -0.158160   \n",
              "ASTV     -0.132771  0.320664  0.323201 -0.078006 -0.021983  0.122709   \n",
              "MSTV      0.328765 -0.213327 -0.003527 -0.015431 -0.043101 -0.060585   \n",
              "ALTV     -0.210358  0.324492  0.261932  0.103816 -0.004530 -0.035676   \n",
              "MLTV     -0.025132 -0.196235 -0.260579  0.619308 -0.008707 -0.071941   \n",
              "Width     0.309056 -0.285115  0.211570  0.108264  0.042312  0.108543   \n",
              "Min      -0.337651  0.203621 -0.155839 -0.273676  0.029930 -0.094331   \n",
              "Mode     -0.301393 -0.310990  0.258527 -0.083922 -0.006495 -0.075102   \n",
              "Mean     -0.354825 -0.272298  0.153149 -0.066743  0.050725  0.033320   \n",
              "Median   -0.315395 -0.301944  0.260255 -0.107348  0.015412  0.005035   \n",
              "Variance  0.315686 -0.068200  0.237237 -0.178013  0.078694  0.021859   \n",
              "Tendency -0.078035 -0.251222  0.340637  0.344453 -0.185050 -0.035230   \n",
              "CLASS     0.098312  0.222450  0.515010  0.084061 -0.056420 -0.081899   \n",
              "\n",
              "               PC7       PC8       PC9      PC10      PC11      PC12  \\\n",
              "AC1      -0.310632  0.152573 -0.093920  0.108181  0.325043 -0.310360   \n",
              "FM1       0.529473  0.386570 -0.069137 -0.253029  0.039759  0.041795   \n",
              "UC1       0.466812  0.033170  0.320733 -0.151557  0.417014 -0.157834   \n",
              "DL1       0.123137  0.174238 -0.275379 -0.162947 -0.363059  0.148684   \n",
              "DS1       0.416509 -0.137033  0.122060  0.107070 -0.019047 -0.020855   \n",
              "DP1      -0.013227 -0.368618  0.442726  0.324844 -0.169662 -0.092961   \n",
              "ASTV     -0.241732 -0.048743  0.363773 -0.659410  0.059781  0.014353   \n",
              "MSTV     -0.000816 -0.115546 -0.276240  0.001543  0.035010  0.236841   \n",
              "ALTV      0.028715 -0.005095 -0.199059  0.241211  0.646337  0.401368   \n",
              "MLTV      0.154374 -0.424922  0.012832 -0.180752  0.163676 -0.152959   \n",
              "Width    -0.179661 -0.139787  0.009757 -0.241304  0.179087  0.027964   \n",
              "Min       0.208622 -0.121443 -0.125362  0.071672 -0.181904  0.010422   \n",
              "Mode      0.127553 -0.147431 -0.042473 -0.027976 -0.152451  0.058594   \n",
              "Mean      0.092318 -0.200023 -0.032222 -0.002127 -0.028020  0.000564   \n",
              "Median    0.103048 -0.198732 -0.022933 -0.087818 -0.103618  0.101252   \n",
              "Variance  0.077540 -0.331178  0.070440  0.134612  0.043956  0.365707   \n",
              "Tendency  0.026220  0.428477  0.464564  0.358879 -0.057593  0.018838   \n",
              "CLASS     0.124225 -0.126720 -0.329245  0.115359  0.058241 -0.675551   \n",
              "\n",
              "              PC13      PC14      PC15      PC16      PC17      PC18  \n",
              "AC1       0.037364  0.238005  0.400782  0.087335  0.044225  0.015647  \n",
              "FM1       0.003599  0.041374 -0.000840 -0.000760 -0.008777 -0.005082  \n",
              "UC1      -0.028128 -0.072663 -0.022644 -0.023619 -0.020879  0.016182  \n",
              "DL1       0.109853 -0.075614  0.631717 -0.070448 -0.039627 -0.021867  \n",
              "DS1      -0.128816 -0.076390  0.018179  0.034267  0.002948  0.004168  \n",
              "DP1      -0.265935 -0.198060  0.330668 -0.035831 -0.018826  0.028959  \n",
              "ASTV     -0.150021  0.290175  0.076348  0.052258 -0.075386 -0.027734  \n",
              "MSTV     -0.722389  0.364485 -0.158541 -0.039790 -0.109277 -0.017001  \n",
              "ALTV     -0.083436 -0.141662  0.253621  0.014382  0.026640  0.000607  \n",
              "MLTV      0.091222  0.245423  0.374131  0.074913  0.049080  0.014308  \n",
              "Width     0.019248 -0.424952 -0.135049 -0.172973  0.412232 -0.459450  \n",
              "Min      -0.052835  0.320047  0.092511 -0.118795  0.485054 -0.509961  \n",
              "Mode     -0.115382 -0.193998 -0.008895  0.771987 -0.044314 -0.129090  \n",
              "Mean      0.042624 -0.071000  0.028995 -0.464237 -0.627670 -0.317517  \n",
              "Median   -0.060395 -0.039945 -0.012379 -0.323458  0.396206  0.619271  \n",
              "Variance  0.557913  0.412876 -0.184514  0.095775 -0.040599 -0.001738  \n",
              "Tendency -0.074164  0.278707  0.024259 -0.069841  0.122754 -0.156057  \n",
              "CLASS     0.008616  0.113133 -0.179878 -0.008543  0.003606  0.019537  "
            ],
            "text/html": [
              "\n",
              "  <div id=\"df-d412e95d-f964-4f2c-af92-bcef78a03484\">\n",
              "    <div class=\"colab-df-container\">\n",
              "      <div>\n",
              "<style scoped>\n",
              "    .dataframe tbody tr th:only-of-type {\n",
              "        vertical-align: middle;\n",
              "    }\n",
              "\n",
              "    .dataframe tbody tr th {\n",
              "        vertical-align: top;\n",
              "    }\n",
              "\n",
              "    .dataframe thead th {\n",
              "        text-align: right;\n",
              "    }\n",
              "</style>\n",
              "<table border=\"1\" class=\"dataframe\">\n",
              "  <thead>\n",
              "    <tr style=\"text-align: right;\">\n",
              "      <th></th>\n",
              "      <th>PC1</th>\n",
              "      <th>PC2</th>\n",
              "      <th>PC3</th>\n",
              "      <th>PC4</th>\n",
              "      <th>PC5</th>\n",
              "      <th>PC6</th>\n",
              "      <th>PC7</th>\n",
              "      <th>PC8</th>\n",
              "      <th>PC9</th>\n",
              "      <th>PC10</th>\n",
              "      <th>PC11</th>\n",
              "      <th>PC12</th>\n",
              "      <th>PC13</th>\n",
              "      <th>PC14</th>\n",
              "      <th>PC15</th>\n",
              "      <th>PC16</th>\n",
              "      <th>PC17</th>\n",
              "      <th>PC18</th>\n",
              "    </tr>\n",
              "  </thead>\n",
              "  <tbody>\n",
              "    <tr>\n",
              "      <th>AC1</th>\n",
              "      <td>0.009060</td>\n",
              "      <td>-0.384634</td>\n",
              "      <td>-0.031544</td>\n",
              "      <td>-0.401820</td>\n",
              "      <td>0.186962</td>\n",
              "      <td>0.289476</td>\n",
              "      <td>-0.310632</td>\n",
              "      <td>0.152573</td>\n",
              "      <td>-0.093920</td>\n",
              "      <td>0.108181</td>\n",
              "      <td>0.325043</td>\n",
              "      <td>-0.310360</td>\n",
              "      <td>0.037364</td>\n",
              "      <td>0.238005</td>\n",
              "      <td>0.400782</td>\n",
              "      <td>0.087335</td>\n",
              "      <td>0.044225</td>\n",
              "      <td>0.015647</td>\n",
              "    </tr>\n",
              "    <tr>\n",
              "      <th>FM1</th>\n",
              "      <td>0.086781</td>\n",
              "      <td>-0.033523</td>\n",
              "      <td>0.087238</td>\n",
              "      <td>0.090212</td>\n",
              "      <td>0.685080</td>\n",
              "      <td>0.050245</td>\n",
              "      <td>0.529473</td>\n",
              "      <td>0.386570</td>\n",
              "      <td>-0.069137</td>\n",
              "      <td>-0.253029</td>\n",
              "      <td>0.039759</td>\n",
              "      <td>0.041795</td>\n",
              "      <td>0.003599</td>\n",
              "      <td>0.041374</td>\n",
              "      <td>-0.000840</td>\n",
              "      <td>-0.000760</td>\n",
              "      <td>-0.008777</td>\n",
              "      <td>-0.005082</td>\n",
              "    </tr>\n",
              "    <tr>\n",
              "      <th>UC1</th>\n",
              "      <td>0.136075</td>\n",
              "      <td>-0.126573</td>\n",
              "      <td>-0.119120</td>\n",
              "      <td>-0.375883</td>\n",
              "      <td>-0.344702</td>\n",
              "      <td>-0.373713</td>\n",
              "      <td>0.466812</td>\n",
              "      <td>0.033170</td>\n",
              "      <td>0.320733</td>\n",
              "      <td>-0.151557</td>\n",
              "      <td>0.417014</td>\n",
              "      <td>-0.157834</td>\n",
              "      <td>-0.028128</td>\n",
              "      <td>-0.072663</td>\n",
              "      <td>-0.022644</td>\n",
              "      <td>-0.023619</td>\n",
              "      <td>-0.020879</td>\n",
              "      <td>0.016182</td>\n",
              "    </tr>\n",
              "    <tr>\n",
              "      <th>DL1</th>\n",
              "      <td>0.312680</td>\n",
              "      <td>0.004453</td>\n",
              "      <td>0.245809</td>\n",
              "      <td>-0.073663</td>\n",
              "      <td>-0.319682</td>\n",
              "      <td>-0.092073</td>\n",
              "      <td>0.123137</td>\n",
              "      <td>0.174238</td>\n",
              "      <td>-0.275379</td>\n",
              "      <td>-0.162947</td>\n",
              "      <td>-0.363059</td>\n",
              "      <td>0.148684</td>\n",
              "      <td>0.109853</td>\n",
              "      <td>-0.075614</td>\n",
              "      <td>0.631717</td>\n",
              "      <td>-0.070448</td>\n",
              "      <td>-0.039627</td>\n",
              "      <td>-0.021867</td>\n",
              "    </tr>\n",
              "    <tr>\n",
              "      <th>DS1</th>\n",
              "      <td>0.074822</td>\n",
              "      <td>0.105301</td>\n",
              "      <td>-0.031694</td>\n",
              "      <td>-0.020047</td>\n",
              "      <td>-0.243026</td>\n",
              "      <td>0.824298</td>\n",
              "      <td>0.416509</td>\n",
              "      <td>-0.137033</td>\n",
              "      <td>0.122060</td>\n",
              "      <td>0.107070</td>\n",
              "      <td>-0.019047</td>\n",
              "      <td>-0.020855</td>\n",
              "      <td>-0.128816</td>\n",
              "      <td>-0.076390</td>\n",
              "      <td>0.018179</td>\n",
              "      <td>0.034267</td>\n",
              "      <td>0.002948</td>\n",
              "      <td>0.004168</td>\n",
              "    </tr>\n",
              "    <tr>\n",
              "      <th>DP1</th>\n",
              "      <td>0.242400</td>\n",
              "      <td>0.172148</td>\n",
              "      <td>0.100874</td>\n",
              "      <td>-0.124898</td>\n",
              "      <td>0.405016</td>\n",
              "      <td>-0.158160</td>\n",
              "      <td>-0.013227</td>\n",
              "      <td>-0.368618</td>\n",
              "      <td>0.442726</td>\n",
              "      <td>0.324844</td>\n",
              "      <td>-0.169662</td>\n",
              "      <td>-0.092961</td>\n",
              "      <td>-0.265935</td>\n",
              "      <td>-0.198060</td>\n",
              "      <td>0.330668</td>\n",
              "      <td>-0.035831</td>\n",
              "      <td>-0.018826</td>\n",
              "      <td>0.028959</td>\n",
              "    </tr>\n",
              "    <tr>\n",
              "      <th>ASTV</th>\n",
              "      <td>-0.132771</td>\n",
              "      <td>0.320664</td>\n",
              "      <td>0.323201</td>\n",
              "      <td>-0.078006</td>\n",
              "      <td>-0.021983</td>\n",
              "      <td>0.122709</td>\n",
              "      <td>-0.241732</td>\n",
              "      <td>-0.048743</td>\n",
              "      <td>0.363773</td>\n",
              "      <td>-0.659410</td>\n",
              "      <td>0.059781</td>\n",
              "      <td>0.014353</td>\n",
              "      <td>-0.150021</td>\n",
              "      <td>0.290175</td>\n",
              "      <td>0.076348</td>\n",
              "      <td>0.052258</td>\n",
              "      <td>-0.075386</td>\n",
              "      <td>-0.027734</td>\n",
              "    </tr>\n",
              "    <tr>\n",
              "      <th>MSTV</th>\n",
              "      <td>0.328765</td>\n",
              "      <td>-0.213327</td>\n",
              "      <td>-0.003527</td>\n",
              "      <td>-0.015431</td>\n",
              "      <td>-0.043101</td>\n",
              "      <td>-0.060585</td>\n",
              "      <td>-0.000816</td>\n",
              "      <td>-0.115546</td>\n",
              "      <td>-0.276240</td>\n",
              "      <td>0.001543</td>\n",
              "      <td>0.035010</td>\n",
              "      <td>0.236841</td>\n",
              "      <td>-0.722389</td>\n",
              "      <td>0.364485</td>\n",
              "      <td>-0.158541</td>\n",
              "      <td>-0.039790</td>\n",
              "      <td>-0.109277</td>\n",
              "      <td>-0.017001</td>\n",
              "    </tr>\n",
              "    <tr>\n",
              "      <th>ALTV</th>\n",
              "      <td>-0.210358</td>\n",
              "      <td>0.324492</td>\n",
              "      <td>0.261932</td>\n",
              "      <td>0.103816</td>\n",
              "      <td>-0.004530</td>\n",
              "      <td>-0.035676</td>\n",
              "      <td>0.028715</td>\n",
              "      <td>-0.005095</td>\n",
              "      <td>-0.199059</td>\n",
              "      <td>0.241211</td>\n",
              "      <td>0.646337</td>\n",
              "      <td>0.401368</td>\n",
              "      <td>-0.083436</td>\n",
              "      <td>-0.141662</td>\n",
              "      <td>0.253621</td>\n",
              "      <td>0.014382</td>\n",
              "      <td>0.026640</td>\n",
              "      <td>0.000607</td>\n",
              "    </tr>\n",
              "    <tr>\n",
              "      <th>MLTV</th>\n",
              "      <td>-0.025132</td>\n",
              "      <td>-0.196235</td>\n",
              "      <td>-0.260579</td>\n",
              "      <td>0.619308</td>\n",
              "      <td>-0.008707</td>\n",
              "      <td>-0.071941</td>\n",
              "      <td>0.154374</td>\n",
              "      <td>-0.424922</td>\n",
              "      <td>0.012832</td>\n",
              "      <td>-0.180752</td>\n",
              "      <td>0.163676</td>\n",
              "      <td>-0.152959</td>\n",
              "      <td>0.091222</td>\n",
              "      <td>0.245423</td>\n",
              "      <td>0.374131</td>\n",
              "      <td>0.074913</td>\n",
              "      <td>0.049080</td>\n",
              "      <td>0.014308</td>\n",
              "    </tr>\n",
              "    <tr>\n",
              "      <th>Width</th>\n",
              "      <td>0.309056</td>\n",
              "      <td>-0.285115</td>\n",
              "      <td>0.211570</td>\n",
              "      <td>0.108264</td>\n",
              "      <td>0.042312</td>\n",
              "      <td>0.108543</td>\n",
              "      <td>-0.179661</td>\n",
              "      <td>-0.139787</td>\n",
              "      <td>0.009757</td>\n",
              "      <td>-0.241304</td>\n",
              "      <td>0.179087</td>\n",
              "      <td>0.027964</td>\n",
              "      <td>0.019248</td>\n",
              "      <td>-0.424952</td>\n",
              "      <td>-0.135049</td>\n",
              "      <td>-0.172973</td>\n",
              "      <td>0.412232</td>\n",
              "      <td>-0.459450</td>\n",
              "    </tr>\n",
              "    <tr>\n",
              "      <th>Min</th>\n",
              "      <td>-0.337651</td>\n",
              "      <td>0.203621</td>\n",
              "      <td>-0.155839</td>\n",
              "      <td>-0.273676</td>\n",
              "      <td>0.029930</td>\n",
              "      <td>-0.094331</td>\n",
              "      <td>0.208622</td>\n",
              "      <td>-0.121443</td>\n",
              "      <td>-0.125362</td>\n",
              "      <td>0.071672</td>\n",
              "      <td>-0.181904</td>\n",
              "      <td>0.010422</td>\n",
              "      <td>-0.052835</td>\n",
              "      <td>0.320047</td>\n",
              "      <td>0.092511</td>\n",
              "      <td>-0.118795</td>\n",
              "      <td>0.485054</td>\n",
              "      <td>-0.509961</td>\n",
              "    </tr>\n",
              "    <tr>\n",
              "      <th>Mode</th>\n",
              "      <td>-0.301393</td>\n",
              "      <td>-0.310990</td>\n",
              "      <td>0.258527</td>\n",
              "      <td>-0.083922</td>\n",
              "      <td>-0.006495</td>\n",
              "      <td>-0.075102</td>\n",
              "      <td>0.127553</td>\n",
              "      <td>-0.147431</td>\n",
              "      <td>-0.042473</td>\n",
              "      <td>-0.027976</td>\n",
              "      <td>-0.152451</td>\n",
              "      <td>0.058594</td>\n",
              "      <td>-0.115382</td>\n",
              "      <td>-0.193998</td>\n",
              "      <td>-0.008895</td>\n",
              "      <td>0.771987</td>\n",
              "      <td>-0.044314</td>\n",
              "      <td>-0.129090</td>\n",
              "    </tr>\n",
              "    <tr>\n",
              "      <th>Mean</th>\n",
              "      <td>-0.354825</td>\n",
              "      <td>-0.272298</td>\n",
              "      <td>0.153149</td>\n",
              "      <td>-0.066743</td>\n",
              "      <td>0.050725</td>\n",
              "      <td>0.033320</td>\n",
              "      <td>0.092318</td>\n",
              "      <td>-0.200023</td>\n",
              "      <td>-0.032222</td>\n",
              "      <td>-0.002127</td>\n",
              "      <td>-0.028020</td>\n",
              "      <td>0.000564</td>\n",
              "      <td>0.042624</td>\n",
              "      <td>-0.071000</td>\n",
              "      <td>0.028995</td>\n",
              "      <td>-0.464237</td>\n",
              "      <td>-0.627670</td>\n",
              "      <td>-0.317517</td>\n",
              "    </tr>\n",
              "    <tr>\n",
              "      <th>Median</th>\n",
              "      <td>-0.315395</td>\n",
              "      <td>-0.301944</td>\n",
              "      <td>0.260255</td>\n",
              "      <td>-0.107348</td>\n",
              "      <td>0.015412</td>\n",
              "      <td>0.005035</td>\n",
              "      <td>0.103048</td>\n",
              "      <td>-0.198732</td>\n",
              "      <td>-0.022933</td>\n",
              "      <td>-0.087818</td>\n",
              "      <td>-0.103618</td>\n",
              "      <td>0.101252</td>\n",
              "      <td>-0.060395</td>\n",
              "      <td>-0.039945</td>\n",
              "      <td>-0.012379</td>\n",
              "      <td>-0.323458</td>\n",
              "      <td>0.396206</td>\n",
              "      <td>0.619271</td>\n",
              "    </tr>\n",
              "    <tr>\n",
              "      <th>Variance</th>\n",
              "      <td>0.315686</td>\n",
              "      <td>-0.068200</td>\n",
              "      <td>0.237237</td>\n",
              "      <td>-0.178013</td>\n",
              "      <td>0.078694</td>\n",
              "      <td>0.021859</td>\n",
              "      <td>0.077540</td>\n",
              "      <td>-0.331178</td>\n",
              "      <td>0.070440</td>\n",
              "      <td>0.134612</td>\n",
              "      <td>0.043956</td>\n",
              "      <td>0.365707</td>\n",
              "      <td>0.557913</td>\n",
              "      <td>0.412876</td>\n",
              "      <td>-0.184514</td>\n",
              "      <td>0.095775</td>\n",
              "      <td>-0.040599</td>\n",
              "      <td>-0.001738</td>\n",
              "    </tr>\n",
              "    <tr>\n",
              "      <th>Tendency</th>\n",
              "      <td>-0.078035</td>\n",
              "      <td>-0.251222</td>\n",
              "      <td>0.340637</td>\n",
              "      <td>0.344453</td>\n",
              "      <td>-0.185050</td>\n",
              "      <td>-0.035230</td>\n",
              "      <td>0.026220</td>\n",
              "      <td>0.428477</td>\n",
              "      <td>0.464564</td>\n",
              "      <td>0.358879</td>\n",
              "      <td>-0.057593</td>\n",
              "      <td>0.018838</td>\n",
              "      <td>-0.074164</td>\n",
              "      <td>0.278707</td>\n",
              "      <td>0.024259</td>\n",
              "      <td>-0.069841</td>\n",
              "      <td>0.122754</td>\n",
              "      <td>-0.156057</td>\n",
              "    </tr>\n",
              "    <tr>\n",
              "      <th>CLASS</th>\n",
              "      <td>0.098312</td>\n",
              "      <td>0.222450</td>\n",
              "      <td>0.515010</td>\n",
              "      <td>0.084061</td>\n",
              "      <td>-0.056420</td>\n",
              "      <td>-0.081899</td>\n",
              "      <td>0.124225</td>\n",
              "      <td>-0.126720</td>\n",
              "      <td>-0.329245</td>\n",
              "      <td>0.115359</td>\n",
              "      <td>0.058241</td>\n",
              "      <td>-0.675551</td>\n",
              "      <td>0.008616</td>\n",
              "      <td>0.113133</td>\n",
              "      <td>-0.179878</td>\n",
              "      <td>-0.008543</td>\n",
              "      <td>0.003606</td>\n",
              "      <td>0.019537</td>\n",
              "    </tr>\n",
              "  </tbody>\n",
              "</table>\n",
              "</div>\n",
              "      <button class=\"colab-df-convert\" onclick=\"convertToInteractive('df-d412e95d-f964-4f2c-af92-bcef78a03484')\"\n",
              "              title=\"Convert this dataframe to an interactive table.\"\n",
              "              style=\"display:none;\">\n",
              "        \n",
              "  <svg xmlns=\"http://www.w3.org/2000/svg\" height=\"24px\"viewBox=\"0 0 24 24\"\n",
              "       width=\"24px\">\n",
              "    <path d=\"M0 0h24v24H0V0z\" fill=\"none\"/>\n",
              "    <path d=\"M18.56 5.44l.94 2.06.94-2.06 2.06-.94-2.06-.94-.94-2.06-.94 2.06-2.06.94zm-11 1L8.5 8.5l.94-2.06 2.06-.94-2.06-.94L8.5 2.5l-.94 2.06-2.06.94zm10 10l.94 2.06.94-2.06 2.06-.94-2.06-.94-.94-2.06-.94 2.06-2.06.94z\"/><path d=\"M17.41 7.96l-1.37-1.37c-.4-.4-.92-.59-1.43-.59-.52 0-1.04.2-1.43.59L10.3 9.45l-7.72 7.72c-.78.78-.78 2.05 0 2.83L4 21.41c.39.39.9.59 1.41.59.51 0 1.02-.2 1.41-.59l7.78-7.78 2.81-2.81c.8-.78.8-2.07 0-2.86zM5.41 20L4 18.59l7.72-7.72 1.47 1.35L5.41 20z\"/>\n",
              "  </svg>\n",
              "      </button>\n",
              "      \n",
              "  <style>\n",
              "    .colab-df-container {\n",
              "      display:flex;\n",
              "      flex-wrap:wrap;\n",
              "      gap: 12px;\n",
              "    }\n",
              "\n",
              "    .colab-df-convert {\n",
              "      background-color: #E8F0FE;\n",
              "      border: none;\n",
              "      border-radius: 50%;\n",
              "      cursor: pointer;\n",
              "      display: none;\n",
              "      fill: #1967D2;\n",
              "      height: 32px;\n",
              "      padding: 0 0 0 0;\n",
              "      width: 32px;\n",
              "    }\n",
              "\n",
              "    .colab-df-convert:hover {\n",
              "      background-color: #E2EBFA;\n",
              "      box-shadow: 0px 1px 2px rgba(60, 64, 67, 0.3), 0px 1px 3px 1px rgba(60, 64, 67, 0.15);\n",
              "      fill: #174EA6;\n",
              "    }\n",
              "\n",
              "    [theme=dark] .colab-df-convert {\n",
              "      background-color: #3B4455;\n",
              "      fill: #D2E3FC;\n",
              "    }\n",
              "\n",
              "    [theme=dark] .colab-df-convert:hover {\n",
              "      background-color: #434B5C;\n",
              "      box-shadow: 0px 1px 3px 1px rgba(0, 0, 0, 0.15);\n",
              "      filter: drop-shadow(0px 1px 2px rgba(0, 0, 0, 0.3));\n",
              "      fill: #FFFFFF;\n",
              "    }\n",
              "  </style>\n",
              "\n",
              "      <script>\n",
              "        const buttonEl =\n",
              "          document.querySelector('#df-d412e95d-f964-4f2c-af92-bcef78a03484 button.colab-df-convert');\n",
              "        buttonEl.style.display =\n",
              "          google.colab.kernel.accessAllowed ? 'block' : 'none';\n",
              "\n",
              "        async function convertToInteractive(key) {\n",
              "          const element = document.querySelector('#df-d412e95d-f964-4f2c-af92-bcef78a03484');\n",
              "          const dataTable =\n",
              "            await google.colab.kernel.invokeFunction('convertToInteractive',\n",
              "                                                     [key], {});\n",
              "          if (!dataTable) return;\n",
              "\n",
              "          const docLinkHtml = 'Like what you see? Visit the ' +\n",
              "            '<a target=\"_blank\" href=https://colab.research.google.com/notebooks/data_table.ipynb>data table notebook</a>'\n",
              "            + ' to learn more about interactive tables.';\n",
              "          element.innerHTML = '';\n",
              "          dataTable['output_type'] = 'display_data';\n",
              "          await google.colab.output.renderOutput(dataTable, element);\n",
              "          const docLink = document.createElement('div');\n",
              "          docLink.innerHTML = docLinkHtml;\n",
              "          element.appendChild(docLink);\n",
              "        }\n",
              "      </script>\n",
              "    </div>\n",
              "  </div>\n",
              "  "
            ]
          },
          "metadata": {},
          "execution_count": 86
        }
      ]
    },
    {
      "cell_type": "code",
      "source": [
        "# Plot PCA variance to check how many PCA components to include that can \n",
        "#    explain about 90% of variation.\n",
        "\n",
        "fig, axs = plt.subplots(1, 2)\n",
        "n = pca.n_components_\n",
        "grid = np.arange(1, n + 1)\n",
        "# Explained variance\n",
        "evr = pca.explained_variance_ratio_\n",
        "axs[0].bar(grid, evr)\n",
        "axs[0].set(\n",
        "    xlabel=\"Component\", title=\"% Explained Variance\", ylim=(0.0, 1.0)\n",
        ")\n",
        "# Cumulative Variance\n",
        "cv = np.cumsum(evr)\n",
        "axs[1].plot(np.r_[0, grid], np.r_[0, cv], \"o-\")\n",
        "axs[1].set(\n",
        "    xlabel=\"Component\", title=\"% Cumulative Variance\", ylim=(0.0, 1.0)\n",
        ")\n",
        "# Set up figure\n",
        "fig.set(figwidth=8, dpi=100)"
      ],
      "metadata": {
        "colab": {
          "base_uri": "https://localhost:8080/",
          "height": 489
        },
        "id": "zBenTEjESW0-",
        "outputId": "f969f415-5a44-4260-d598-0308a6ece6f4"
      },
      "execution_count": null,
      "outputs": [
        {
          "output_type": "execute_result",
          "data": {
            "text/plain": [
              "[None, None]"
            ]
          },
          "metadata": {},
          "execution_count": 87
        },
        {
          "output_type": "display_data",
          "data": {
            "text/plain": [
              "<Figure size 800x480 with 2 Axes>"
            ],
            "image/png": "[encoded data removed]"
          },
          "metadata": {}
        }
      ]
    },
    {
      "cell_type": "markdown",
      "source": [
        "By observing cumulative % graph, it apears that 13 to 15 components explain 90% of the variance"
      ],
      "metadata": {
        "id": "jABcIrsRY62q"
      }
    },
    {
      "cell_type": "code",
      "source": [
        "# Compute PCA with 15 components which explains 90% variations.\n",
        "pca = PCA(n_components=15)\n",
        "X_train_pca = pca.fit_transform(X_train)\n",
        "X_test_pca = pca.fit_transform(X_test)"
      ],
      "metadata": {
        "id": "iXY38YuNSWxs"
      },
      "execution_count": null,
      "outputs": []
    },
    {
      "cell_type": "code",
      "source": [
        "# Fit a Decision Tree using PCA components and predict the test resuls.\n",
        "Dtree = DecisionTreeClassifier()\n",
        "Dtree.fit(X_train_pca, y_train) \n",
        "y_pred = Dtree.predict(X_test_pca)"
      ],
      "metadata": {
        "id": "I74lv92PZzdF"
      },
      "execution_count": null,
      "outputs": []
    },
    {
      "cell_type": "code",
      "source": [
        "print ('accuracy =',accuracy_score(y_test, y_pred))\n",
        "\n",
        "print(\"Recall Score : \",recall_score(y_test, y_pred, \n",
        "                                           pos_label='positive',\n",
        "                                           average='micro'))\n",
        "print(\"Precision Score : \",precision_score(y_test, y_pred, \n",
        "                                           pos_label='positive',\n",
        "                                           average='micro'))\n",
        "print(\"F1 Score : \",f1_score(y_test, y_pred, \n",
        "                                           pos_label='positive',\n",
        "                                           average='micro'))"
      ],
      "metadata": {
        "colab": {
          "base_uri": "https://localhost:8080/"
        },
        "id": "oOievE9RZzZ6",
        "outputId": "1d8934fa-18a1-4d4e-e0df-2705e240cc0c"
      },
      "execution_count": null,
      "outputs": [
        {
          "output_type": "stream",
          "name": "stdout",
          "text": [
            "accuracy = 0.8262910798122066\n",
            "Recall Score :  0.8262910798122066\n",
            "Precision Score :  0.8262910798122066\n",
            "F1 Score :  0.8262910798122065\n"
          ]
        }
      ]
    },
    {
      "cell_type": "code",
      "source": [
        "# Store accuracy of Decision Tree using PCA\n",
        "dt_pca_acc = accuracy_score(y_test, y_pred)\n",
        "dt_pca_acc"
      ],
      "metadata": {
        "colab": {
          "base_uri": "https://localhost:8080/"
        },
        "id": "9uMehQG7TTtl",
        "outputId": "c0f34d1c-7b2d-4a1c-8f7c-811a91a27ef2"
      },
      "execution_count": null,
      "outputs": [
        {
          "output_type": "execute_result",
          "data": {
            "text/plain": [
              "0.8262910798122066"
            ]
          },
          "metadata": {},
          "execution_count": 91
        }
      ]
    },
    {
      "cell_type": "code",
      "source": [
        "# Decision Tree without PCA\n",
        "# To verify if there is any change in accuracy of DT if PCA is not used.\n",
        "Dtree.fit(X_train,y_train)\n",
        "y_pred = Dtree.predict(X_test)"
      ],
      "metadata": {
        "id": "bX7kO-aAbKqH"
      },
      "execution_count": null,
      "outputs": []
    },
    {
      "cell_type": "code",
      "source": [
        "print ('accuracy =',accuracy_score(y_test, y_pred))\n",
        "\n",
        "print(\"Recall Score : \",recall_score(y_test, y_pred, \n",
        "                                           pos_label='positive',\n",
        "                                           average='micro'))\n",
        "print(\"Precision Score : \",precision_score(y_test, y_pred, \n",
        "                                           pos_label='positive',\n",
        "                                           average='micro'))\n",
        "print(\"F1 Score : \",f1_score(y_test, y_pred, \n",
        "                                           pos_label='positive',\n",
        "                                           average='micro'))"
      ],
      "metadata": {
        "colab": {
          "base_uri": "https://localhost:8080/"
        },
        "outputId": "1fecde8f-a1a4-46f7-c115-6d9969e576ca",
        "id": "mdpA9wQIbKqg"
      },
      "execution_count": null,
      "outputs": [
        {
          "output_type": "stream",
          "name": "stdout",
          "text": [
            "accuracy = 0.971830985915493\n",
            "Recall Score :  0.971830985915493\n",
            "Precision Score :  0.971830985915493\n",
            "F1 Score :  0.971830985915493\n"
          ]
        }
      ]
    },
    {
      "cell_type": "code",
      "source": [
        "# Accuracy of DT without PCA is highest and far better than using PCA.\n",
        "dt_acc = accuracy_score(y_test, y_pred)\n",
        "dt_acc"
      ],
      "metadata": {
        "colab": {
          "base_uri": "https://localhost:8080/"
        },
        "id": "Qk0t8s7EUQep",
        "outputId": "e6c1b019-f91d-41bc-e9f3-0bb5b2b53444"
      },
      "execution_count": null,
      "outputs": [
        {
          "output_type": "execute_result",
          "data": {
            "text/plain": [
              "0.971830985915493"
            ]
          },
          "metadata": {},
          "execution_count": 94
        }
      ]
    },
    {
      "cell_type": "code",
      "source": [
        "knn_acc_pc = round(knn_acc * 100,2)\n",
        "svm_acc_pc = round(svm_acc * 100,2)\n",
        "dt_pca_acc_pc = round(dt_pca_acc * 100,2)\n",
        "dt_acc_pc = round(dt_acc * 100,2)"
      ],
      "metadata": {
        "id": "iB6tETtJXaSx"
      },
      "execution_count": null,
      "outputs": []
    },
    {
      "cell_type": "code",
      "source": [
        "# plot and compare accuacies of the 3 classification models\n",
        "algo = ['KNN', 'SVM', 'DT_PCA', 'DT']\n",
        "\n",
        "acc_val = [knn_acc_pc, svm_acc_pc, dt_pca_acc_pc, dt_acc_pc]\n",
        "\n",
        "colors = ['green', 'blue', 'purple', 'teal']\n",
        "\n",
        "plt.bar(algo, acc_val, color=colors)\n",
        "for i in range(len(algo)):\n",
        "        plt.text(i, acc_val[i], acc_val[i], ha = 'center')\n",
        "\n",
        "plt.title('Accuracy of KNN, SVM, Decistion Tree with CPA, Decisiton Tree')\n",
        "plt.xlabel('Algorithm')\n",
        "plt.ylabel('Classification Accuracy')\n",
        "plt.show()"
      ],
      "metadata": {
        "colab": {
          "base_uri": "https://localhost:8080/",
          "height": 472
        },
        "id": "n7XmKrUWUdIn",
        "outputId": "b172e0fc-3ef6-43ba-f2b6-c1d1e1526cbb"
      },
      "execution_count": null,
      "outputs": [
        {
          "output_type": "display_data",
          "data": {
            "text/plain": [
              "<Figure size 640x480 with 1 Axes>"
            ],
            "image/png": "[encoded data removed]"
          },
          "metadata": {}
        }
      ]
    }
  ]
}